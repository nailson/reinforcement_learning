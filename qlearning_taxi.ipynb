{
 "metadata": {
  "language_info": {
   "codemirror_mode": {
    "name": "ipython",
    "version": 3
   },
   "file_extension": ".py",
   "mimetype": "text/x-python",
   "name": "python",
   "nbconvert_exporter": "python",
   "pygments_lexer": "ipython3",
   "version": "3.8.3-final"
  },
  "orig_nbformat": 2,
  "kernelspec": {
   "name": "python3",
   "display_name": "Python 3.8.3 64-bit ('anaconda3': virtualenv)",
   "metadata": {
    "interpreter": {
     "hash": "8f567e90c79308a072fefe841ab9311381e37389806ce172e6e4cff8e319793f"
    }
   }
  }
 },
 "nbformat": 4,
 "nbformat_minor": 2,
 "cells": [
  {
   "cell_type": "code",
   "execution_count": 6,
   "metadata": {},
   "outputs": [],
   "source": [
    "import numpy as np"
   ]
  },
  {
   "source": [
    "# Taxi Problem\n",
    "\n",
    "From visualization alone, we can infer what actions and states are possible: our agent needs to move in its environment to pick up and drop off the passengers. More formally, there are 6 discrete & deterministic actions:\n",
    "* 0: move south;\n",
    "* 1: move north;\n",
    "* 2: move east;\n",
    "* 3: move west;\n",
    "* 4: pickup the passenger;\n",
    "* 5: dropoff the passenger."
   ],
   "cell_type": "markdown",
   "metadata": {}
  },
  {
   "cell_type": "code",
   "execution_count": 3,
   "metadata": {},
   "outputs": [
    {
     "output_type": "stream",
     "name": "stdout",
     "text": [
      "+---------+\n|\u001b[34;1mR\u001b[0m: | : :G|\n| : | : : |\n| : : : : |\n| | :\u001b[43m \u001b[0m| : |\n|Y| : |\u001b[35mB\u001b[0m: |\n+---------+\n\n"
     ]
    }
   ],
   "source": [
    "env = gym.make(\"Taxi-v3\").env\n",
    "env.reset()\n",
    "env.render()"
   ]
  },
  {
   "cell_type": "code",
   "execution_count": 12,
   "metadata": {},
   "outputs": [
    {
     "output_type": "stream",
     "name": "stdout",
     "text": [
      "143 -1 False {'prob': 1.0}\n+---------+\n|\u001b[34;1mR\u001b[0m: | : :G|\n| : |\u001b[43m \u001b[0m: : |\n| : : : : |\n| | : | : |\n|Y| : |\u001b[35mB\u001b[0m: |\n+---------+\n  (North)\n"
     ]
    }
   ],
   "source": [
    "#Taking the action and getting the reward and outcome state\n",
    "new_state, reward, done, info = env.step(1)\n",
    "print(new_state, reward, done, info)\n",
    "\n",
    "env.render()"
   ]
  },
  {
   "cell_type": "code",
   "execution_count": 4,
   "metadata": {},
   "outputs": [
    {
     "output_type": "stream",
     "name": "stdout",
     "text": [
      "Action Space Discrete(6)\nState Space Discrete(500)\n"
     ]
    }
   ],
   "source": [
    "#Getting the state space\n",
    "\n",
    "print(\"Action Space {}\".format(env.action_space))\n",
    "print(\"State Space {}\".format(env.observation_space))"
   ]
  },
  {
   "cell_type": "code",
   "execution_count": 7,
   "metadata": {},
   "outputs": [
    {
     "output_type": "execute_result",
     "data": {
      "text/plain": [
       "array([[0., 0., 0., 0., 0., 0.],\n",
       "       [0., 0., 0., 0., 0., 0.],\n",
       "       [0., 0., 0., 0., 0., 0.],\n",
       "       ...,\n",
       "       [0., 0., 0., 0., 0., 0.],\n",
       "       [0., 0., 0., 0., 0., 0.],\n",
       "       [0., 0., 0., 0., 0., 0.]])"
      ]
     },
     "metadata": {},
     "execution_count": 7
    }
   ],
   "source": [
    "# Step 1: Initialize Q table\n",
    "Q = np.zeros((env.observation_space.n, env.action_space.n))\n",
    "Q"
   ]
  },
  {
   "cell_type": "code",
   "execution_count": 84,
   "metadata": {},
   "outputs": [
    {
     "output_type": "execute_result",
     "data": {
      "text/plain": [
       "5"
      ]
     },
     "metadata": {},
     "execution_count": 84
    }
   ],
   "source": [
    "def exploration_policy():\n",
    "    #list of actions\n",
    "    action_list = [0,1,2,3,4,5]\n",
    "    #random policy\n",
    "    return np.random.choice(action_list)\n",
    "\n",
    "exploration_policy()"
   ]
  },
  {
   "cell_type": "code",
   "execution_count": 72,
   "metadata": {},
   "outputs": [
    {
     "output_type": "execute_result",
     "data": {
      "text/plain": [
       "2"
      ]
     },
     "metadata": {},
     "execution_count": 72
    }
   ],
   "source": [
    "env.action_space.sample()"
   ]
  },
  {
   "cell_type": "code",
   "execution_count": 97,
   "metadata": {},
   "outputs": [
    {
     "output_type": "stream",
     "name": "stdout",
     "text": [
      "Total reward for episode 15: -33\n"
     ]
    }
   ],
   "source": [
    "max_inter = 10000\n",
    "alpha0 = 0.05 # initial learning rate\n",
    "decay = 0.005 # learning rate decay\n",
    "discount_factor = 0.9 # discounting factor\n",
    "state = 0 # initial state\n",
    "total_training_rewards = 0\n",
    "\n",
    "for iteraction in range(0, max_inter):\n",
    "    action = exploration_policy()\n",
    "    new_state, reward, done, info = env.step(action)\n",
    "    \n",
    "    Q[state, action] = Q[state, action] + alpha*(reward+discount_factor*np.max(Q[new_state, :]) - Q[state, action]) \n",
    "    \n",
    "    #Ending the episode\n",
    "    if done == True:\n",
    "        print (\"Total reward for episode {}: {}\".format(iteraction, total_training_rewards))\n",
    "        break\n",
    "\n",
    "    #Increasing our total reward and updating the state\n",
    "    total_training_rewards += reward      \n",
    "    state = new_state   \n",
    "\n"
   ]
  },
  {
   "cell_type": "code",
   "execution_count": 98,
   "metadata": {},
   "outputs": [
    {
     "output_type": "stream",
     "name": "stdout",
     "text": [
      "+---------+\n|R: | : :G|\n| : | : : |\n| : : : : |\n| | : | : |\n|Y| : |\u001b[35m\u001b[34;1m\u001b[43mB\u001b[0m\u001b[0m\u001b[0m: |\n+---------+\n  (Dropoff)\n"
     ]
    }
   ],
   "source": [
    "env.render()"
   ]
  },
  {
   "cell_type": "code",
   "execution_count": 100,
   "metadata": {},
   "outputs": [
    {
     "output_type": "stream",
     "name": "stdout",
     "text": [
      "[[-0.06320117  0.          0.         -0.14662019 -0.51209587 -0.98839979]\n [ 0.          0.          0.          0.          0.          0.        ]\n [ 0.          0.          0.          0.          0.          0.        ]\n ...\n [ 0.          0.          0.          0.          0.          0.        ]\n [ 0.          0.          0.          0.          0.          0.        ]\n [ 0.         -0.0970273  -0.04975124 -0.09840293 -1.41951316 -2.63752456]]\n"
     ]
    }
   ],
   "source": [
    "print(Q)"
   ]
  },
  {
   "cell_type": "code",
   "execution_count": null,
   "metadata": {},
   "outputs": [],
   "source": []
  }
 ]
}